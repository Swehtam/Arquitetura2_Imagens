{
  "nbformat": 4,
  "nbformat_minor": 0,
  "metadata": {
    "colab": {
      "name": "Trabalho 1 - Arquitetura 2",
      "version": "0.3.2",
      "provenance": [],
      "collapsed_sections": [],
      "toc_visible": true,
      "include_colab_link": true
    },
    "kernelspec": {
      "name": "python3",
      "display_name": "Python 3"
    }
  },
  "cells": [
    {
      "cell_type": "markdown",
      "metadata": {
        "id": "view-in-github",
        "colab_type": "text"
      },
      "source": [
        "<a href=\"https://colab.research.google.com/github/Swehtam/Arquitetura2_Imagens/blob/master/Trabalho_1_Arquitetura_2.ipynb\" target=\"_parent\"><img src=\"https://colab.research.google.com/assets/colab-badge.svg\" alt=\"Open In Colab\"/></a>"
      ]
    },
    {
      "metadata": {
        "id": "VN_P_OQ-5WzT",
        "colab_type": "code",
        "colab": {}
      },
      "cell_type": "code",
      "source": [
        "import numpy as np\n",
        "import scipy\n",
        "import time\n",
        "from skimage import io, viewer, color\n",
        "from skimage.transform import resize\n",
        "import matplotlib.pyplot as plt\n",
        "plt.rcParams[\"axes.grid\"] = False"
      ],
      "execution_count": 0,
      "outputs": []
    },
    {
      "metadata": {
        "id": "VebiVMchWYN1",
        "colab_type": "code",
        "outputId": "246b8607-17cf-43ce-af2b-03b9fd4dfca8",
        "colab": {
          "base_uri": "https://localhost:8080/",
          "height": 102
        }
      },
      "cell_type": "code",
      "source": [
        "!git init\n",
        "!git remote add origin https://github.com/Swehtam/Arquitetura2_Imagens.git\n",
        "!git pull origin master"
      ],
      "execution_count": 196,
      "outputs": [
        {
          "output_type": "stream",
          "text": [
            "Reinitialized existing Git repository in /content/.git/\n",
            "fatal: remote origin already exists.\n",
            "From https://github.com/Swehtam/Arquitetura2_Imagens\n",
            " * branch            master     -> FETCH_HEAD\n",
            "Already up to date.\n"
          ],
          "name": "stdout"
        }
      ]
    },
    {
      "metadata": {
        "id": "igHcZqVtx0dS",
        "colab_type": "code",
        "colab": {}
      },
      "cell_type": "code",
      "source": [
        "# Metodo para processar a imagem que necessite de Permutação e Fusão de loop\n",
        "def BWPermutaSlow(image):\n",
        "    aux = np.zeros_like(image, dtype=np.uint8)\n",
        "    Y = np.zeros_like(image[:,:,0], dtype=np.uint8)\n",
        "        \n",
        "    start = time.time()\n",
        "    \n",
        "    # Permutação de loops,\n",
        "    # o lado que tiver maior tamanho está no segundo for\n",
        "    # fazendo com que ele percorra distâncias maiores\n",
        "    if(image.shape[0] > image.shape[1]):\n",
        "        for y in range(image.shape[1]):\n",
        "            for x in range(image.shape[0]):\n",
        "                Y[x,y] = (image[x,y,0] * 0.2126 + image[x,y,1] * 0.7152 + \n",
        "                     image[x,y,2] * 0.0722).astype(np.uint8)\n",
        "                     \n",
        "        # Fusão de Loops\n",
        "        for y in range(image.shape[1]):\n",
        "            for x in range(image.shape[0]):\n",
        "                aux[x,y,0] = Y[x,y]\n",
        "                aux[x,y,1] = Y[x,y]\n",
        "                aux[x,y,2] = Y[x,y]\n",
        "                \n",
        "    else:\n",
        "        for x in range(image.shape[0]):\n",
        "            for y in range(image.shape[1]):\n",
        "                Y[x,y] = (image[x,y,0] * 0.2126 + image[x,y,1] * 0.7152 + \n",
        "                         image[x,y,2] * 0.0722).astype(np.uint8)\n",
        "\n",
        "        for x in range(image.shape[0]):\n",
        "            for y in range(image.shape[1]):\n",
        "                aux[x,y,0] = Y[x,y]\n",
        "                aux[x,y,1] = Y[x,y]\n",
        "                aux[x,y,2] = Y[x,y]\n",
        "\n",
        "    end = time.time()\n",
        "    total = end - start\n",
        "    return aux, total\n",
        "\n",
        "def BWPermutaFast(image):\n",
        "    aux = np.zeros_like(image, dtype=np.uint8)\n",
        "    \n",
        "    start = time.time()\n",
        "    \n",
        "    if(image.shape[0] > image.shape[1]):\n",
        "        for x in range(image.shape[0]):\n",
        "            for y in range(image.shape[1]):\n",
        "                Y = (image[x,y,0] * 0.2126 + image[x,y,1] * 0.7152 + \n",
        "                         image[x,y,2] * 0.0722).astype(np.uint8)\n",
        "\n",
        "                aux[x,y,0] = Y\n",
        "                aux[x,y,1] = Y\n",
        "                aux[x,y,2] = Y\n",
        "                \n",
        "    else:\n",
        "        for y in range(image.shape[1]):\n",
        "            for x in range(image.shape[0]):\n",
        "                Y = (image[x,y,0] * 0.2126 + image[x,y,1] * 0.7152 + \n",
        "                         image[x,y,2] * 0.0722).astype(np.uint8)\n",
        "\n",
        "                aux[x,y,0] = Y\n",
        "                aux[x,y,1] = Y\n",
        "                aux[x,y,2] = Y\n",
        "    \n",
        "    end = time.time()\n",
        "    total = end - start            \n",
        "    return aux, total\n",
        "\n",
        "# Metodo para processar a imagem que necessite de Blocagem e Fusão de loop\n",
        "def BWBlocagemSlow(image):\n",
        "    aux = np.zeros_like(image, dtype=np.uint8)\n",
        "    Y = np.zeros_like(image[:,:,0], dtype=np.uint8)\n",
        "    z = np.random.uniform(0, 1, (image[:,:,0]).shape)\n",
        "    safe = np.zeros_like(img[:,:,0], dtype=np.float64)\n",
        "    \n",
        "    for x in range(image.shape[0]):\n",
        "        for y in range(image.shape[1]):\n",
        "            Y[x,y] = (image[x,y,0] * 0.2126 + image[x,y,1] * 0.7152 + \n",
        "                     image[x,y,2] * 0.0722).astype(np.uint8)\n",
        "                \n",
        "    \n",
        "    # O tempo só começa aqui por que não só estamos calculando a demora da\n",
        "    # blocagem e da fusão de loop\n",
        "    start = time.time()\n",
        "    \n",
        "    #Blocagem\n",
        "    for x in range(image.shape[0]):\n",
        "        for y in range(image.shape[1]):\n",
        "            \n",
        "            r = 0\n",
        "            \n",
        "            for k in range(image.shape[0]):\n",
        "                r = r + Y[x,k] * z[k, y]\n",
        "                    \n",
        "            # Fora do for do 'k'                    \n",
        "            safe[x,y] = safe[x,y] + r\n",
        "\n",
        "            \n",
        "    end = time.time()\n",
        "    total = end - start\n",
        "\n",
        "    for x in range(image.shape[0]):\n",
        "        for y in range(image.shape[1]):\n",
        "            a = (safe[x,y] % 256).astype(np.uint8)\n",
        "            aux[x,y,0] = a\n",
        "            aux[x,y,1] = a\n",
        "            aux[x,y,2] = a\n",
        "            \n",
        "    return aux, total, Y, z\n",
        "\n",
        "def BWBlocagemFast(image, B, YEntrada, zEntrada):\n",
        "    aux = np.zeros_like(image, dtype=np.uint8)\n",
        "    safe = np.zeros_like(img[:,:,0], dtype=np.float64)\n",
        "\n",
        "    start = time.time()\n",
        "    \n",
        "    #Blocagem\n",
        "    \n",
        "    yy = 0\n",
        "    while yy < image.shape[1]:\n",
        "        \n",
        "        kk = 0\n",
        "        while kk < image.shape[1]:\n",
        "            for x in range(image.shape[0]):\n",
        "                for y in range(yy, min(yy + B, image.shape[1])):\n",
        "\n",
        "                    r = 0\n",
        "\n",
        "                    for k in range(kk, min(kk + B, image.shape[0])):\n",
        "                        r = r + YEntrada[x,k] * zEntrada[k, y]\n",
        "\n",
        "                    # Fora do for do 'k'                    \n",
        "                    safe[x,y] = safe[x,y] + r\n",
        "                    \n",
        "            # Acabou o while do kk            \n",
        "            kk = kk + B\n",
        "\n",
        "        # Acabou o while do yy\n",
        "        yy = yy + B\n",
        "                \n",
        "    end = time.time()\n",
        "    total = end - start\n",
        "    \n",
        "    for x in range(image.shape[0]):\n",
        "        for y in range(image.shape[1]):\n",
        "            a = (safe[x,y] % 256).astype(np.uint8)\n",
        "            aux[x,y,0] = a\n",
        "            aux[x,y,1] = a\n",
        "            aux[x,y,2] = a\n",
        "    \n",
        "    return aux, total"
      ],
      "execution_count": 0,
      "outputs": []
    },
    {
      "metadata": {
        "id": "aVWBgVeyaDme",
        "colab_type": "code",
        "outputId": "b7442e4b-df8e-4c76-f1f5-1265c1823fea",
        "colab": {
          "base_uri": "https://localhost:8080/",
          "height": 187
        }
      },
      "cell_type": "code",
      "source": [
        "imagens = ['1.png', '2.png', '3.png', '4.png', '5.png', '6.png', '7.png',\n",
        "           '8.png', '9.png', '10.png']\n",
        "\n",
        "slowPermutaArray = []\n",
        "fastPermutaArray = []\n",
        "\n",
        "slowBlocagemArray = []\n",
        "fastBlocagemArray = []\n",
        "\n",
        "for path in imagens:\n",
        "    img = io.imread('/content/' + path)\n",
        "    \n",
        "    SP, PermutaSlowtime = BWPermutaSlow(img)\n",
        "    slowPermutaArray.append(PermutaSlowtime)\n",
        "    \n",
        "    FP, PermutaFasttime = BWPermutaFast(img)\n",
        "    fastPermutaArray.append(PermutaFasttime)\n",
        "    \n",
        "    img = ((resize(img, (384, 384, 3), mode='constant')) * 255).astype(np.uint8)\n",
        "    B = 64\n",
        "    \n",
        "    SB, BlocagemSlowtime, YBlocagem, zBlocagem = BWBlocagemSlow(img)\n",
        "    slowBlocagemArray.append(BlocagemSlowtime)\n",
        "    \n",
        "    FB, BlocagemFasttime = BWBlocagemFast(img, B, YBlocagem, zBlocagem)\n",
        "    fastBlocagemArray.append(BlocagemFasttime)\n",
        "    \n",
        "    print(\"terminou um\")"
      ],
      "execution_count": 205,
      "outputs": [
        {
          "output_type": "stream",
          "text": [
            "terminou um\n",
            "terminou um\n",
            "terminou um\n",
            "terminou um\n",
            "terminou um\n",
            "terminou um\n",
            "terminou um\n",
            "terminou um\n",
            "terminou um\n",
            "terminou um\n"
          ],
          "name": "stdout"
        }
      ]
    },
    {
      "metadata": {
        "id": "o-YxS2Cy4wh5",
        "colab_type": "code",
        "outputId": "bffe425a-239b-4758-b736-181719c69425",
        "colab": {
          "base_uri": "https://localhost:8080/",
          "height": 401
        }
      },
      "cell_type": "code",
      "source": [
        "index = np.arange(0, len(slowPermutaArray)*4, 4)\n",
        "w = 1/1.5\n",
        "\n",
        "fig = plt.figure()\n",
        "ax = fig.add_subplot(111)\n",
        "\n",
        "ax.bar(index, slowPermutaArray, w, label='slowPermuta', color='r')\n",
        "ax.bar(index + w, fastPermutaArray, w, label='fastPermuta', color='g')\n",
        "ax.bar(index + (w * 2), slowBlocagemArray, w, label='slowBlocagem', color='m')\n",
        "ax.bar(index + (w * 3), fastBlocagemArray, w, label='fastBlocagem', color='b')\n",
        "\n",
        "ax.set_xlabel(\"Imagens\")\n",
        "ax.set_ylabel(\"Tempo (segundos)\")\n",
        "ax.set_xticks(index + w + w/2)\n",
        "ax.set_xticklabels(imagens)\n",
        "ax.legend()\n",
        "\n",
        "plt.grid(True, 'major', 'y', ls='--', lw=.5, c='k', alpha=.3)\n",
        "fig.tight_layout()\n",
        "\n",
        "plt.show()"
      ],
      "execution_count": 206,
      "outputs": [
        {
          "output_type": "display_data",
          "data": {
            "image/png": "[encoded data removed]",
            "text/plain": [
              "<Figure size 576x396 with 1 Axes>"
            ]
          },
          "metadata": {
            "tags": []
          }
        }
      ]
    }
  ]
}